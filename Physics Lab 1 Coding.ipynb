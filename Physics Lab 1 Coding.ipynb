{
 "cells": [
  {
   "cell_type": "code",
   "execution_count": 25,
   "metadata": {},
   "outputs": [],
   "source": [
    "import numpy as np"
   ]
  },
  {
   "cell_type": "code",
   "execution_count": 26,
   "metadata": {},
   "outputs": [],
   "source": [
    "def Expan(delL,L,Tf,Ti):\n",
    "    alph = delL/(L*(Tf-Ti))\n",
    "    return alph\n"
   ]
  },
  {
   "cell_type": "code",
   "execution_count": 27,
   "metadata": {},
   "outputs": [
    {
     "name": "stdout",
     "output_type": "stream",
     "text": [
      "Coefficient of Linear Expansion = 1.7228309558266145e-05 1/Degrees Celcius\n"
     ]
    }
   ],
   "source": [
    "ChangeL = 1.25\n",
    "Length = 1050\n",
    "Tempf = 92.5\n",
    "Tempi = 23.4\n",
    "\n",
    "coeff_exp = Expan(ChangeL,Length,Tempf,Tempi)\n",
    "print (\"Coefficient of Linear Expansion =\",coeff_exp,\"1/Degrees Celcius\")"
   ]
  },
  {
   "cell_type": "code",
   "execution_count": 28,
   "metadata": {},
   "outputs": [],
   "source": [
    "def rule3(dTf,dTi):\n",
    "    dSDT = np.sqrt(dTf**2+dTi**2)\n",
    "    return dSDT\n"
   ]
  },
  {
   "cell_type": "code",
   "execution_count": 29,
   "metadata": {},
   "outputs": [
    {
     "name": "stdout",
     "output_type": "stream",
     "text": [
      "Uncertainty in Temperature = 0.31622776601683794 Degrees Celcius\n"
     ]
    }
   ],
   "source": [
    "dTf = 0.1\n",
    "dTi = 0.3\n",
    "\n",
    "uncertainty_temp = rule3(dTf,dTi)\n",
    "print (\"Uncertainty in Temperature =\",uncertainty_temp, \"Degrees Celcius\")"
   ]
  },
  {
   "cell_type": "code",
   "execution_count": 30,
   "metadata": {},
   "outputs": [],
   "source": [
    "def rule4(alp,UdeL,deL,UL,L,UdT,Dt):\n",
    "    Ualp = alp*np.sqrt((UdeL/deL)**2+(-UL/L)**2+(-UdT/Dt)**2)\n",
    "    return Ualp\n"
   ]
  },
  {
   "cell_type": "code",
   "execution_count": 32,
   "metadata": {},
   "outputs": [
    {
     "name": "stdout",
     "output_type": "stream",
     "text": [
      "Uncertainty in Alpha = 1.5962962826045274e-07 1/Degrees Celcius\n"
     ]
    }
   ],
   "source": [
    "alp = 1.7228309558266145e-05\n",
    "UdeL = 0.01\n",
    "deL = 1.25\n",
    "UL = 1\n",
    "L = 1050\n",
    "UdT = 0.31622776601683794\n",
    "Dt = 69.1\n",
    "\n",
    "uncertainty_alpha = rule4(alp,UdeL,deL,UL,L,UdT,Dt)\n",
    "print (\"Uncertainty in Alpha =\",uncertainty_alpha, \"1/Degrees Celcius\")"
   ]
  },
  {
   "cell_type": "code",
   "execution_count": 38,
   "metadata": {},
   "outputs": [
    {
     "name": "stdout",
     "output_type": "stream",
     "text": [
      "The value of alpha in the given example is 1.72e-05 +/- 1.60e-07 1/Degrees Celcius.\n"
     ]
    }
   ],
   "source": [
    "print (\"The value of alpha in the given example is 1.72e-05 +/- 1.60e-07 1/Degrees Celcius.\")"
   ]
  },
  {
   "cell_type": "code",
   "execution_count": null,
   "metadata": {},
   "outputs": [],
   "source": []
  }
 ],
 "metadata": {
  "kernelspec": {
   "display_name": "Python 3",
   "language": "python",
   "name": "python3"
  },
  "language_info": {
   "codemirror_mode": {
    "name": "ipython",
    "version": 3
   },
   "file_extension": ".py",
   "mimetype": "text/x-python",
   "name": "python",
   "nbconvert_exporter": "python",
   "pygments_lexer": "ipython3",
   "version": "3.7.4"
  }
 },
 "nbformat": 4,
 "nbformat_minor": 2
}
